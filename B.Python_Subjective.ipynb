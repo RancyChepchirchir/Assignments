{
 "cells": [
  {
   "cell_type": "code",
   "execution_count": null,
   "metadata": {},
   "outputs": [],
   "source": [
    " \n",
    " "
   ]
  },
  {
   "cell_type": "markdown",
   "metadata": {},
   "source": [
    "# <a id='7'>Q1. Write a Python program to get the string from the given string where all the occurrence of its first char has been changed to '$,' except first char itself?<a/> \n",
    "\n",
    "\n",
    "Sample String: 'prospect'\n",
    "\n",
    "Expected Result : 'pros$ect'"
   ]
  },
  {
   "cell_type": "code",
   "execution_count": 1,
   "metadata": {},
   "outputs": [],
   "source": [
    "def change_character(x):\n",
    "    for i in range(1,len(x),1):\n",
    "        if x[i] == x[0]:\n",
    "            x = x[0:i] + '$' + x[i+1:]\n",
    "    return x                    "
   ]
  },
  {
   "cell_type": "code",
   "execution_count": 2,
   "metadata": {},
   "outputs": [
    {
     "name": "stdout",
     "output_type": "stream",
     "text": [
      "pros$ect\n"
     ]
    }
   ],
   "source": [
    "answer1 = change_character('prospect')\n",
    "print(answer1)"
   ]
  },
  {
   "cell_type": "code",
   "execution_count": null,
   "metadata": {},
   "outputs": [],
   "source": []
  },
  {
   "cell_type": "markdown",
   "metadata": {},
   "source": [
    "# <a id='7'>Q2. Write a Python program to get the single string from the two given strings, and separated by the space and swap the first two characters of each string?<a/>             "
   ]
  },
  {
   "cell_type": "code",
   "execution_count": null,
   "metadata": {},
   "outputs": [],
   "source": [
    "Sample String : 'abc', 'xyz'\n",
    "Expected Result: 'xyc abz'"
   ]
  },
  {
   "cell_type": "code",
   "execution_count": 3,
   "metadata": {},
   "outputs": [],
   "source": [
    "def swapString(a , b):\n",
    "    return (b[0:2] + a[2:] + \" \" + a[0:2] + b[2:])"
   ]
  },
  {
   "cell_type": "code",
   "execution_count": 4,
   "metadata": {},
   "outputs": [
    {
     "data": {
      "text/plain": [
       "'xyc abz'"
      ]
     },
     "execution_count": 4,
     "metadata": {},
     "output_type": "execute_result"
    }
   ],
   "source": [
    "swapString('abc' , 'xyz')"
   ]
  },
  {
   "cell_type": "code",
   "execution_count": null,
   "metadata": {},
   "outputs": [],
   "source": []
  },
  {
   "cell_type": "markdown",
   "metadata": {},
   "source": [
    "# <a id='7'>Q3. Write the Python program to add 'ing' at the end of the given string (length of the string should be at least 3). If given string already ends with 'ing,' then add 'ly' instead. If string length of the given string is less than 3, leave it unchanged?<a/> "
   ]
  },
  {
   "cell_type": "code",
   "execution_count": null,
   "metadata": {},
   "outputs": [],
   "source": [
    "Sample string: ' abc '\n",
    "Expectedresult: 'abcing'\n",
    "    \n",
    "Samplestring: 'string'\n",
    "Expectedresult: 'stringly'"
   ]
  },
  {
   "cell_type": "code",
   "execution_count": 5,
   "metadata": {},
   "outputs": [
    {
     "name": "stdout",
     "output_type": "stream",
     "text": [
      "abcing\n",
      "stringly\n"
     ]
    }
   ],
   "source": [
    "def add_string(x):\n",
    "    if len(x) < 2:\n",
    "        x = x\n",
    "    else:\n",
    "        if x[-3:len('string')] == 'ing':\n",
    "            x = x + 'ly'\n",
    "        else:\n",
    "            x = x + 'ing'\n",
    "    return x\n",
    "\n",
    "print(add_string('abc'))\n",
    "print(add_string('string'))"
   ]
  },
  {
   "cell_type": "code",
   "execution_count": null,
   "metadata": {},
   "outputs": [],
   "source": []
  },
  {
   "cell_type": "markdown",
   "metadata": {},
   "source": [
    "# <a id='7'>Q4. Write the Python program to find the first appearance of the substring 'not' and 'poor' from the given string, if 'not' follows the 'poor', replace the whole 'not'...' poor' substring with 'good'.Return the resulting string.'<a/> \n",
    "\n",
    "Sample string: 'The lyrics are not that poor!' \n",
    "               'The lyrics are poor!' \n",
    "\n",
    "Expected Result: 'The lyrics are good!' \n",
    "                 'The lyrics are poor!    "
   ]
  },
  {
   "cell_type": "code",
   "execution_count": 10,
   "metadata": {},
   "outputs": [
    {
     "name": "stdout",
     "output_type": "stream",
     "text": [
      "The lyrics is good!\n",
      "The lyrics is poor!\n"
     ]
    }
   ],
   "source": [
    "def not_poor(str1):\n",
    "    isnot = str1.find('not')\n",
    "    ispoor = str1.find('poor')\n",
    "  \n",
    "\n",
    "    if ispoor > isnot and isnot>0 and ispoor>0:\n",
    "        str1 = str1.replace(str1[isnot:(ispoor+4)], 'good')\n",
    "        return str1\n",
    "    else:\n",
    "        return str1\n",
    "print(not_poor('The lyrics is not that poor!'))\n",
    "print(not_poor('The lyrics is poor!'))"
   ]
  },
  {
   "cell_type": "code",
   "execution_count": null,
   "metadata": {},
   "outputs": [],
   "source": []
  },
  {
   "cell_type": "markdown",
   "metadata": {},
   "source": [
    "# <a id='7'> Q5. Write the Python program to remove the characters which have odd index values of a given string.<a/> \n"
   ]
  },
  {
   "cell_type": "code",
   "execution_count": 12,
   "metadata": {},
   "outputs": [
    {
     "data": {
      "text/plain": [
       "'etaaat'"
      ]
     },
     "execution_count": 12,
     "metadata": {},
     "output_type": "execute_result"
    }
   ],
   "source": [
    "def str_Odd(x):\n",
    "    y = ''\n",
    "    for i in range(0,len(x),1):\n",
    "        if i%2 == 0:\n",
    "            y = y+x[i]\n",
    "    return y\n",
    "\n",
    "str_Odd('extravagant')"
   ]
  },
  {
   "cell_type": "code",
   "execution_count": null,
   "metadata": {},
   "outputs": [],
   "source": []
  },
  {
   "cell_type": "markdown",
   "metadata": {},
   "source": [
    "# <a id='7'>Q6. Write the Python function to get a string made of 4 copies of the last two characters of the specified string (length must be at least 2).<a/> \n",
    " \n",
    "Sample function and result :\n",
    "    \n",
    "insert-end ('Python') -> abababab\n",
    "    \n",
    "insert-end('Exercises') -> jkjkjkjk"
   ]
  },
  {
   "cell_type": "code",
   "execution_count": 19,
   "metadata": {},
   "outputs": [
    {
     "data": {
      "text/plain": [
       "'onononon'"
      ]
     },
     "execution_count": 19,
     "metadata": {},
     "output_type": "execute_result"
    }
   ],
   "source": [
    "def str_copy(str):\n",
    "    return str[-2:] * 4\n",
    "\n",
    "str_copy('Python')"
   ]
  },
  {
   "cell_type": "code",
   "execution_count": 20,
   "metadata": {},
   "outputs": [
    {
     "data": {
      "text/plain": [
       "'eseseses'"
      ]
     },
     "execution_count": 20,
     "metadata": {},
     "output_type": "execute_result"
    }
   ],
   "source": [
    "str_copy('Exercises')"
   ]
  },
  {
   "cell_type": "code",
   "execution_count": null,
   "metadata": {},
   "outputs": [],
   "source": []
  },
  {
   "cell_type": "markdown",
   "metadata": {},
   "source": [
    "# <a id='7'>Q7. Write the python function to get a string made of its first three characters of a specified string. If the length of the string is less than 3 then return the original string.<a/> \n"
   ]
  },
  {
   "cell_type": "code",
   "execution_count": null,
   "metadata": {},
   "outputs": [],
   "source": [
    "Sample function and result : \n",
    "first-three('ipy') -> ipy \n",
    "first-three('python') -> pyt"
   ]
  },
  {
   "cell_type": "code",
   "execution_count": 2,
   "metadata": {},
   "outputs": [
    {
     "name": "stdout",
     "output_type": "stream",
     "text": [
      "ipy\n",
      "pyt\n"
     ]
    }
   ],
   "source": [
    "def Cut_str(s):\n",
    "    if len(s) < 3:\n",
    "        s = s\n",
    "    else:\n",
    "        s = s[:3]\n",
    "    return s\n",
    "\n",
    "print(Cut_str('ipy'))\n",
    "print(Cut_str('python'))"
   ]
  },
  {
   "cell_type": "code",
   "execution_count": null,
   "metadata": {},
   "outputs": [],
   "source": []
  },
  {
   "cell_type": "markdown",
   "metadata": {},
   "source": [
    "# <a id='7'>Q8. Write the python program to print the following floating numbers up to 2 decimal places?<a/> "
   ]
  },
  {
   "cell_type": "code",
   "execution_count": null,
   "metadata": {},
   "outputs": [],
   "source": [
    "23.456789"
   ]
  },
  {
   "cell_type": "code",
   "execution_count": 3,
   "metadata": {},
   "outputs": [
    {
     "name": "stdout",
     "output_type": "stream",
     "text": [
      "23.46\n"
     ]
    }
   ],
   "source": [
    "print('%0.2f'%(23.456789))"
   ]
  },
  {
   "cell_type": "markdown",
   "metadata": {},
   "source": [
    "# <a id='7'>Q9. Write the Python program to format a number with a percentage?<a/> "
   ]
  },
  {
   "cell_type": "code",
   "execution_count": 4,
   "metadata": {},
   "outputs": [],
   "source": [
    "def converter(num):\n",
    "    print(\"Converted Number with percentage: \"+\"{:.2%}\".format(num))"
   ]
  },
  {
   "cell_type": "code",
   "execution_count": 6,
   "metadata": {},
   "outputs": [
    {
     "name": "stdout",
     "output_type": "stream",
     "text": [
      "Converted Number with percentage: 23.45%\n"
     ]
    }
   ],
   "source": [
    "converter(0.2345)"
   ]
  },
  {
   "cell_type": "code",
   "execution_count": null,
   "metadata": {},
   "outputs": [],
   "source": []
  },
  {
   "cell_type": "markdown",
   "metadata": {},
   "source": [
    "# <a id='7'>Q10. Write the Python program to count occurrences of a substring in a String?<a/> "
   ]
  },
  {
   "cell_type": "code",
   "execution_count": 9,
   "metadata": {},
   "outputs": [
    {
     "data": {
      "text/plain": [
       "2"
      ]
     },
     "execution_count": 9,
     "metadata": {},
     "output_type": "execute_result"
    }
   ],
   "source": [
    "'stringstr'.count('str')"
   ]
  },
  {
   "cell_type": "code",
   "execution_count": null,
   "metadata": {},
   "outputs": [],
   "source": []
  },
  {
   "cell_type": "markdown",
   "metadata": {},
   "source": [
    "# <a id='7'>Q11. Write the Python program to count repeated characters in a string.<a/> "
   ]
  },
  {
   "cell_type": "markdown",
   "metadata": {},
   "source": [
    "Sample string: ' thequickbrownjumpsoverthelazydog '\n",
    "\n",
    "Expected output:\n",
    "\n",
    "o3 \n",
    "\n",
    "e3 \n",
    "\n",
    "u2 \n",
    "\n",
    "h2    "
   ]
  },
  {
   "cell_type": "code",
   "execution_count": 12,
   "metadata": {},
   "outputs": [],
   "source": [
    "# first i decided to build a function that only returns the count of all letters\n",
    "from itertools import combinations\n",
    "import collections"
   ]
  },
  {
   "cell_type": "code",
   "execution_count": 22,
   "metadata": {},
   "outputs": [
    {
     "data": {
      "text/plain": [
       "Counter({'t': 2,\n",
       "         'h': 2,\n",
       "         'e': 3,\n",
       "         'q': 1,\n",
       "         'u': 2,\n",
       "         'i': 1,\n",
       "         'c': 1,\n",
       "         'k': 1,\n",
       "         'b': 1,\n",
       "         'r': 2,\n",
       "         'o': 3,\n",
       "         'w': 1,\n",
       "         'n': 1,\n",
       "         'j': 1,\n",
       "         'm': 1,\n",
       "         'p': 1,\n",
       "         's': 1,\n",
       "         'v': 1,\n",
       "         'l': 1,\n",
       "         'a': 1,\n",
       "         'z': 1,\n",
       "         'y': 1,\n",
       "         'd': 1,\n",
       "         'g': 1})"
      ]
     },
     "execution_count": 22,
     "metadata": {},
     "output_type": "execute_result"
    }
   ],
   "source": [
    "my_list = 'thequickbrownjumpsoverthelazydog'\n",
    "\n",
    "def Countfreq(my_list):\n",
    "    return collections.Counter(my_list)\n",
    "\n",
    "frequency = collections.Counter(my_list)\n",
    "frequency"
   ]
  },
  {
   "cell_type": "code",
   "execution_count": 23,
   "metadata": {},
   "outputs": [],
   "source": [
    "# building the function to answer the question\n",
    "def repeat_count(str):\n",
    "    for i in set(str):\n",
    "        if str.count(i) > 1:\n",
    "            print(i,str.count(i))"
   ]
  },
  {
   "cell_type": "code",
   "execution_count": 24,
   "metadata": {},
   "outputs": [
    {
     "name": "stdout",
     "output_type": "stream",
     "text": [
      "o 3\n",
      "e 3\n",
      "u 2\n",
      "t 2\n",
      "h 2\n",
      "r 2\n"
     ]
    }
   ],
   "source": [
    "repeat_count(my_list)"
   ]
  },
  {
   "cell_type": "code",
   "execution_count": null,
   "metadata": {},
   "outputs": [],
   "source": []
  },
  {
   "cell_type": "markdown",
   "metadata": {},
   "source": [
    "# <a id='7'>Q12. Write the Python program to print the square and cube symbol in the area of a rectangle and volume of a cylinder?<a/> \n"
   ]
  },
  {
   "cell_type": "code",
   "execution_count": null,
   "metadata": {},
   "outputs": [],
   "source": [
    "Sample output-\n",
    "The area of the rectangle is 1256.66cm2\n",
    "The volume of the cylinder is 1254.725cm3"
   ]
  },
  {
   "cell_type": "code",
   "execution_count": 27,
   "metadata": {},
   "outputs": [
    {
     "name": "stdout",
     "output_type": "stream",
     "text": [
      "The Area of rectangle is 1256.66 cm²\n",
      "The Volumne of cylinder is 1254.725 cm³\n"
     ]
    }
   ],
   "source": [
    "area = 1256.66\n",
    "volume = 1254.725\n",
    "print('The Area of rectangle is {} cm\\u00b2'.format(area))\n",
    "print('The Volumne of cylinder is {} cm\\u00b3'.format(volume))"
   ]
  },
  {
   "cell_type": "code",
   "execution_count": null,
   "metadata": {},
   "outputs": [],
   "source": []
  },
  {
   "cell_type": "markdown",
   "metadata": {},
   "source": [
    "# <a id='7'>Q13. Write the Python program to check if a string contains all letters of the alphabet?<a/> "
   ]
  },
  {
   "cell_type": "code",
   "execution_count": 28,
   "metadata": {},
   "outputs": [],
   "source": [
    "def alphabet_str(str):\n",
    "    for i in list(map(chr,range(97,123))):\n",
    "        if i not in str:\n",
    "            x = 'All alphabets not present'\n",
    "            break\n",
    "        else:\n",
    "            x = 'All alphabets present'\n",
    "    return x"
   ]
  },
  {
   "cell_type": "code",
   "execution_count": 29,
   "metadata": {},
   "outputs": [
    {
     "data": {
      "text/plain": [
       "'All alphabets not present'"
      ]
     },
     "execution_count": 29,
     "metadata": {},
     "output_type": "execute_result"
    }
   ],
   "source": [
    "alphabet_str('Joshua')"
   ]
  },
  {
   "cell_type": "code",
   "execution_count": 31,
   "metadata": {},
   "outputs": [],
   "source": [
    "all_alph = 'a','b','c','d','e','f','g','h','i','j','k','l','m','n','o','p','q','r','s','t','u','v','w','x','y','z'"
   ]
  },
  {
   "cell_type": "code",
   "execution_count": 33,
   "metadata": {},
   "outputs": [
    {
     "data": {
      "text/plain": [
       "'All alphabets present'"
      ]
     },
     "execution_count": 33,
     "metadata": {},
     "output_type": "execute_result"
    }
   ],
   "source": [
    "alphabet_str(all_alph)"
   ]
  },
  {
   "cell_type": "code",
   "execution_count": null,
   "metadata": {},
   "outputs": [],
   "source": [
    "#OR"
   ]
  },
  {
   "cell_type": "code",
   "execution_count": 35,
   "metadata": {},
   "outputs": [
    {
     "data": {
      "text/plain": [
       "'All alphabets present'"
      ]
     },
     "execution_count": 35,
     "metadata": {},
     "output_type": "execute_result"
    }
   ],
   "source": [
    "alphabet_str(list(map(chr,range(97,123))))"
   ]
  },
  {
   "cell_type": "code",
   "execution_count": null,
   "metadata": {},
   "outputs": [],
   "source": []
  },
  {
   "cell_type": "markdown",
   "metadata": {},
   "source": [
    "# <a id='7'>Q14. Write the Python program to find the second most repeated word in a given string?<a/> \n"
   ]
  },
  {
   "cell_type": "code",
   "execution_count": 36,
   "metadata": {},
   "outputs": [],
   "source": [
    "def sec_most_rep(str):\n",
    "    str = str.split()\n",
    "    count = {}\n",
    "    for i in set(str):\n",
    "        count[i] = str.count(i)\n",
    "    print(sorted(count.items(),key= lambda x:(x[1],x[0]))[-2])"
   ]
  },
  {
   "cell_type": "code",
   "execution_count": 38,
   "metadata": {},
   "outputs": [
    {
     "name": "stdout",
     "output_type": "stream",
     "text": [
      "('dog', 2)\n"
     ]
    }
   ],
   "source": [
    "sec_most_rep('The big black cat jumped over the lazy dog . The big black dog is really lazy')"
   ]
  },
  {
   "cell_type": "code",
   "execution_count": 39,
   "metadata": {},
   "outputs": [
    {
     "name": "stdout",
     "output_type": "stream",
     "text": [
      "('good', 2)\n"
     ]
    }
   ],
   "source": [
    "sec_most_rep('Mary is a good girl . She is going to be great man as he is good')"
   ]
  },
  {
   "cell_type": "code",
   "execution_count": null,
   "metadata": {},
   "outputs": [],
   "source": []
  },
  {
   "cell_type": "markdown",
   "metadata": {},
   "source": [
    "# <a id='7'>Q15. Write the Python program to find the minimum window in the given string, which will contains all the characters of another given strings?<a/>\n"
   ]
  },
  {
   "cell_type": "code",
   "execution_count": null,
   "metadata": {},
   "outputs": [],
   "source": [
    "**Example 1 Input : string1 = \" PRWSOERIUSFK \" string2 = \" OSU \" Output: Minimum window is \"OERIUS\"**"
   ]
  },
  {
   "cell_type": "code",
   "execution_count": 40,
   "metadata": {},
   "outputs": [],
   "source": [
    "string1 = \"PRWSOERIUSFK\" \n",
    "string2 = \"OSU\""
   ]
  },
  {
   "cell_type": "code",
   "execution_count": 48,
   "metadata": {},
   "outputs": [
    {
     "name": "stdout",
     "output_type": "stream",
     "text": [
      "S O E R I U "
     ]
    }
   ],
   "source": [
    "# string1 = \"PRWSOERIUSFK\" \n",
    "# string2 = \"OSU\"\n",
    "\n",
    "# let's find the index of r and g in String and the \n",
    "# stor them in index list (index[])  \n",
    "index=[] \n",
    "for x in range(len(string2)):\n",
    "    if string2[x] in string1: \n",
    "        index.append(string1.index(string2[x])) \n",
    "  \n",
    "\"\"\"sorting the r and g index's\"\"\" \n",
    "index.sort() \n",
    "  \n",
    "# save first index in l \n",
    "l = len(index) \n",
    "low = int(index[0]) \n",
    "  \n",
    "# save  last index in h \n",
    "high = int(index[l-1]) \n",
    "h = high +1\n",
    "for i in range(low,h): \n",
    "    print(string1[i],end=\" \") "
   ]
  },
  {
   "cell_type": "code",
   "execution_count": null,
   "metadata": {},
   "outputs": [],
   "source": []
  },
  {
   "cell_type": "markdown",
   "metadata": {},
   "source": [
    "# A much more robust code"
   ]
  },
  {
   "cell_type": "code",
   "execution_count": 52,
   "metadata": {},
   "outputs": [],
   "source": [
    "from collections import Counter, defaultdict \n",
    "  \n",
    "def min_window(str, string2): \n",
    "      \n",
    "    rdict, count = defaultdict(list), Counter(string2) \n",
    "    rpos, res = [], \"\"  \n",
    "      \n",
    "    # Loop only over c exist in pattern \n",
    "    for i, c in filter(lambda x: x[1] in string2, enumerate(str)):  \n",
    "        if len(rdict) == count:  \n",
    "  \n",
    "            # If reached limit, remove \n",
    "            rpos.remove(rdict.pop(0)) \n",
    "              \n",
    "        # Add to dict \n",
    "        rdict[i].append(i) \n",
    "  \n",
    "        # Add to list \n",
    "        rpos.append(i)  \n",
    "          \n",
    "        if (len(rpos) == len(string2) and\n",
    "           (res ==\"\" or rpos[-1]-rpos[0]<len(res))): \n",
    "            res = str[rpos[0]:rpos[-1]+1]  \n",
    "              \n",
    "    return res \n",
    "  "
   ]
  },
  {
   "cell_type": "code",
   "execution_count": 53,
   "metadata": {},
   "outputs": [
    {
     "name": "stdout",
     "output_type": "stream",
     "text": [
      "SOERIU\n"
     ]
    }
   ],
   "source": [
    "print(min_window(string1, string2)) "
   ]
  },
  {
   "cell_type": "code",
   "execution_count": null,
   "metadata": {},
   "outputs": [],
   "source": []
  },
  {
   "cell_type": "markdown",
   "metadata": {},
   "source": [
    "# <a id='7'>Q16. Write the Python program to find smallest window that contains all characters of the given string?<a/> \n"
   ]
  },
  {
   "cell_type": "code",
   "execution_count": null,
   "metadata": {},
   "outputs": [],
   "source": [
    "Original Strings: asdaewsqgtwwsa \n",
    "Smallest window that contains all characters of the said string: Daewsqgt"
   ]
  },
  {
   "cell_type": "code",
   "execution_count": 54,
   "metadata": {},
   "outputs": [],
   "source": [
    "def small_window(str):\n",
    "    return ''.join(set(str)).capitalize()"
   ]
  },
  {
   "cell_type": "code",
   "execution_count": 55,
   "metadata": {},
   "outputs": [
    {
     "data": {
      "text/plain": [
       "'Daqtwgse'"
      ]
     },
     "execution_count": 55,
     "metadata": {},
     "output_type": "execute_result"
    }
   ],
   "source": [
    "small_window('asdaewsqgtwwsa')"
   ]
  },
  {
   "cell_type": "markdown",
   "metadata": {},
   "source": [
    "# <a id='7'>Q17. Write the Python program to count number of substrings from a given string of lowercase alphabets with exactly k distinct (given) characters? Input a string (lowercase alphabets): wolf Input k: 4 Number of substrings with exactly 4 distinct characters: 1<a/> \n"
   ]
  },
  {
   "cell_type": "code",
   "execution_count": null,
   "metadata": {},
   "outputs": [],
   "source": [
    "Input a string (lowercase alphabets): wolf \n",
    "Input k: 4\n",
    "Number of substrings with exactly 4 distinct characters: 1"
   ]
  },
  {
   "cell_type": "code",
   "execution_count": 56,
   "metadata": {},
   "outputs": [],
   "source": [
    "def substring_cal(string,k):\n",
    "    final_str = ''.join(set(string))\n",
    "    lis = []\n",
    "    for i in range(0,len(final_str)):\n",
    "        if i+k > len(final_str):\n",
    "            break\n",
    "        lis.append(final_str[i:i+k])\n",
    "    return len(lis)"
   ]
  },
  {
   "cell_type": "code",
   "execution_count": 57,
   "metadata": {},
   "outputs": [
    {
     "data": {
      "text/plain": [
       "4"
      ]
     },
     "execution_count": 57,
     "metadata": {},
     "output_type": "execute_result"
    }
   ],
   "source": [
    "substring_cal('paradise' , 4)"
   ]
  },
  {
   "cell_type": "code",
   "execution_count": 58,
   "metadata": {},
   "outputs": [
    {
     "data": {
      "text/plain": [
       "1"
      ]
     },
     "execution_count": 58,
     "metadata": {},
     "output_type": "execute_result"
    }
   ],
   "source": [
    "substring_cal('wolf' , 4)"
   ]
  },
  {
   "cell_type": "code",
   "execution_count": null,
   "metadata": {},
   "outputs": [],
   "source": []
  },
  {
   "cell_type": "markdown",
   "metadata": {},
   "source": [
    "# <a id='7'>Q18. Write the Python program to count number of non-empty substrings of the given string? Input a string: w3resource Number of substrings: 55<a/> \n"
   ]
  },
  {
   "cell_type": "code",
   "execution_count": 61,
   "metadata": {},
   "outputs": [],
   "source": [
    "def non_empty_sub(string):\n",
    "    lis = [string[i:j] for i in range(0,len(string)) for j in range(i+1,len(string)+1)]\n",
    "    return len(lis)"
   ]
  },
  {
   "cell_type": "code",
   "execution_count": 62,
   "metadata": {},
   "outputs": [
    {
     "data": {
      "text/plain": [
       "55"
      ]
     },
     "execution_count": 62,
     "metadata": {},
     "output_type": "execute_result"
    }
   ],
   "source": [
    "non_empty_sub('w3resource')"
   ]
  },
  {
   "cell_type": "code",
   "execution_count": null,
   "metadata": {},
   "outputs": [],
   "source": []
  },
  {
   "cell_type": "markdown",
   "metadata": {},
   "source": [
    "# <a id='7'>Q19. Write the Python program to count number of substrings with same first and last characters of the given string?<a/> "
   ]
  },
  {
   "cell_type": "code",
   "execution_count": null,
   "metadata": {},
   "outputs": [],
   "source": [
    "Input a string: abcd \n",
    "output :   4"
   ]
  },
  {
   "cell_type": "code",
   "execution_count": 63,
   "metadata": {},
   "outputs": [],
   "source": [
    "def count_sub(string):\n",
    "    first = string[:1]\n",
    "    last = string[-1]\n",
    "    result = 0\n",
    "    lis = []\n",
    "    for i in range(0,len(string)):\n",
    "        for j in range(i,len(string)):\n",
    "            if string[i] == string[j]:\n",
    "                result += 1\n",
    "                lis.append([string[i],string[j]])\n",
    "    print(lis)\n",
    "    return result"
   ]
  },
  {
   "cell_type": "code",
   "execution_count": 66,
   "metadata": {},
   "outputs": [
    {
     "name": "stdout",
     "output_type": "stream",
     "text": [
      "[['a', 'a'], ['b', 'b'], ['c', 'c'], ['d', 'd']]\n"
     ]
    },
    {
     "data": {
      "text/plain": [
       "4"
      ]
     },
     "execution_count": 66,
     "metadata": {},
     "output_type": "execute_result"
    }
   ],
   "source": [
    "count_sub('abcd')"
   ]
  },
  {
   "cell_type": "code",
   "execution_count": null,
   "metadata": {},
   "outputs": [],
   "source": []
  },
  {
   "cell_type": "markdown",
   "metadata": {},
   "source": [
    "# <a id='7'>Q20. Write the Python program to count the number of strings where the string length is 2 or more, and first and last character are same from a given list of strings.<a/> \n"
   ]
  },
  {
   "cell_type": "code",
   "execution_count": null,
   "metadata": {},
   "outputs": [],
   "source": [
    "Sample List : ['abc', 'xyz', 'wxw', '1331'] \n",
    "Expected Result: 2"
   ]
  },
  {
   "cell_type": "code",
   "execution_count": 67,
   "metadata": {},
   "outputs": [],
   "source": [
    "def num_str_cnt(x):\n",
    "    count = 0\n",
    "    for string in x:\n",
    "        if len(string) >=2:\n",
    "            if string[:1] == string[-1]:\n",
    "                count += 1\n",
    "    return count"
   ]
  },
  {
   "cell_type": "code",
   "execution_count": 68,
   "metadata": {},
   "outputs": [
    {
     "data": {
      "text/plain": [
       "2"
      ]
     },
     "execution_count": 68,
     "metadata": {},
     "output_type": "execute_result"
    }
   ],
   "source": [
    "num_str_cnt(['abc', 'xyz', 'wxw', '1331'])"
   ]
  },
  {
   "cell_type": "code",
   "execution_count": null,
   "metadata": {},
   "outputs": [],
   "source": []
  },
  {
   "cell_type": "code",
   "execution_count": null,
   "metadata": {},
   "outputs": [],
   "source": [
    "# <a id='7'><a/> \n"
   ]
  },
  {
   "cell_type": "code",
   "execution_count": null,
   "metadata": {},
   "outputs": [],
   "source": []
  },
  {
   "cell_type": "code",
   "execution_count": null,
   "metadata": {},
   "outputs": [],
   "source": [
    "# <a id='7'>Q11. What is the output of the program?<a/> \n"
   ]
  },
  {
   "cell_type": "code",
   "execution_count": null,
   "metadata": {},
   "outputs": [],
   "source": []
  },
  {
   "cell_type": "code",
   "execution_count": null,
   "metadata": {},
   "outputs": [],
   "source": [
    "# <a id='7'>Q11. What is the output of the program?<a/> \n"
   ]
  },
  {
   "cell_type": "code",
   "execution_count": null,
   "metadata": {},
   "outputs": [],
   "source": []
  },
  {
   "cell_type": "code",
   "execution_count": null,
   "metadata": {},
   "outputs": [],
   "source": [
    "# <a id='7'>Q11. What is the output of the program?<a/> \n"
   ]
  },
  {
   "cell_type": "code",
   "execution_count": null,
   "metadata": {},
   "outputs": [],
   "source": []
  },
  {
   "cell_type": "code",
   "execution_count": null,
   "metadata": {},
   "outputs": [],
   "source": [
    "# <a id='7'>Q11. What is the output of the program?<a/> \n"
   ]
  },
  {
   "cell_type": "code",
   "execution_count": null,
   "metadata": {},
   "outputs": [],
   "source": []
  },
  {
   "cell_type": "code",
   "execution_count": null,
   "metadata": {},
   "outputs": [],
   "source": [
    "# <a id='7'>Q11. What is the output of the program?<a/> \n"
   ]
  },
  {
   "cell_type": "code",
   "execution_count": null,
   "metadata": {},
   "outputs": [],
   "source": []
  },
  {
   "cell_type": "code",
   "execution_count": null,
   "metadata": {},
   "outputs": [],
   "source": [
    "# <a id='7'>Q11. What is the output of the program?<a/> \n"
   ]
  },
  {
   "cell_type": "code",
   "execution_count": null,
   "metadata": {},
   "outputs": [],
   "source": []
  },
  {
   "cell_type": "code",
   "execution_count": null,
   "metadata": {},
   "outputs": [],
   "source": [
    "# <a id='7'>Q11. What is the output of the program?<a/> \n"
   ]
  },
  {
   "cell_type": "code",
   "execution_count": null,
   "metadata": {},
   "outputs": [],
   "source": []
  },
  {
   "cell_type": "code",
   "execution_count": null,
   "metadata": {},
   "outputs": [],
   "source": [
    "# <a id='7'>Q11. What is the output of the program?<a/> \n"
   ]
  },
  {
   "cell_type": "code",
   "execution_count": null,
   "metadata": {},
   "outputs": [],
   "source": []
  },
  {
   "cell_type": "code",
   "execution_count": null,
   "metadata": {},
   "outputs": [],
   "source": [
    "# <a id='7'>Q11. What is the output of the program?<a/> \n"
   ]
  },
  {
   "cell_type": "code",
   "execution_count": null,
   "metadata": {},
   "outputs": [],
   "source": []
  },
  {
   "cell_type": "code",
   "execution_count": null,
   "metadata": {},
   "outputs": [],
   "source": [
    "# <a id='7'>Q11. What is the output of the program?<a/> \n"
   ]
  },
  {
   "cell_type": "code",
   "execution_count": null,
   "metadata": {},
   "outputs": [],
   "source": []
  },
  {
   "cell_type": "code",
   "execution_count": null,
   "metadata": {},
   "outputs": [],
   "source": [
    "# <a id='7'>Q11. What is the output of the program?<a/> \n"
   ]
  },
  {
   "cell_type": "code",
   "execution_count": null,
   "metadata": {},
   "outputs": [],
   "source": []
  },
  {
   "cell_type": "code",
   "execution_count": null,
   "metadata": {},
   "outputs": [],
   "source": [
    "# <a id='7'>Q11. What is the output of the program?<a/> \n"
   ]
  },
  {
   "cell_type": "code",
   "execution_count": null,
   "metadata": {},
   "outputs": [],
   "source": []
  },
  {
   "cell_type": "code",
   "execution_count": null,
   "metadata": {},
   "outputs": [],
   "source": [
    "# <a id='7'>Q11. What is the output of the program?<a/> \n"
   ]
  },
  {
   "cell_type": "code",
   "execution_count": null,
   "metadata": {},
   "outputs": [],
   "source": []
  },
  {
   "cell_type": "code",
   "execution_count": null,
   "metadata": {},
   "outputs": [],
   "source": [
    "# <a id='7'>Q11. What is the output of the program?<a/> \n"
   ]
  },
  {
   "cell_type": "code",
   "execution_count": null,
   "metadata": {},
   "outputs": [],
   "source": []
  },
  {
   "cell_type": "code",
   "execution_count": null,
   "metadata": {},
   "outputs": [],
   "source": []
  }
 ],
 "metadata": {
  "kernelspec": {
   "display_name": "Python [conda env:learn-env] *",
   "language": "python",
   "name": "conda-env-learn-env-py"
  },
  "language_info": {
   "codemirror_mode": {
    "name": "ipython",
    "version": 3
   },
   "file_extension": ".py",
   "mimetype": "text/x-python",
   "name": "python",
   "nbconvert_exporter": "python",
   "pygments_lexer": "ipython3",
   "version": "3.6.10"
  }
 },
 "nbformat": 4,
 "nbformat_minor": 4
}
